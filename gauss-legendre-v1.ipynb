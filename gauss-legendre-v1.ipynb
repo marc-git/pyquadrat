{
 "cells": [
  {
   "cell_type": "code",
   "execution_count": 1,
   "metadata": {},
   "outputs": [],
   "source": [
    "import math\n",
    "from itertools import combinations, product\n",
    "import numpy as np\n",
    "\n"
   ]
  },
  {
   "cell_type": "code",
   "execution_count": 2,
   "metadata": {},
   "outputs": [],
   "source": [
    "\n",
    "def binom(n, k):\n",
    "    return math.factorial(n) // math.factorial(k) // math.factorial(n - k)\n",
    "\n"
   ]
  },
  {
   "cell_type": "markdown",
   "metadata": {},
   "source": [
    "Calculate the legendre polynomial using the Rodrigues' formula derivation:\n",
    "$$P_n(x) = \\sum_{k=0}^{n}\\binom{n}{k}\\binom{n+k}{k}\\left(\\frac{x-1}{2}\\right)^2\n",
    "$$"
   ]
  },
  {
   "cell_type": "code",
   "execution_count": 3,
   "metadata": {},
   "outputs": [],
   "source": [
    "def legendre_poly(n:int,x:float):\n",
    "    p = 1.\n",
    "    if n<0 :\n",
    "        raise ValueError(\"negative polynomial order\")\n",
    "    if -1.>x or 1.<x:\n",
    "        raise ValueError(\"Only for range x in [-1, 1]\")\n",
    "    if n>0:\n",
    "        p = 0.\n",
    "        for k in range(0,n+1):\n",
    "            p += binom(n,k)*binom(n+k,k)*((x-1.)/2)**k\n",
    "    return p"
   ]
  },
  {
   "cell_type": "markdown",
   "metadata": {},
   "source": [
    "Calculate the derivative using the rule:\n",
    "$$\\frac{x^2-1}{n}\\frac{d}{dx}P_n(x)=xP_n(x)-P_{n-1}(x)\n",
    "$$"
   ]
  },
  {
   "cell_type": "code",
   "execution_count": 4,
   "metadata": {},
   "outputs": [],
   "source": [
    "\n",
    "def legendre_poly_diff(n:int, x:float):\n",
    "    if n<0 :\n",
    "        raise ValueError(\"negative polynomial order\")\n",
    "    if n==0:\n",
    "        return 0.\n",
    "    if -1.>=x or 1.<=x:\n",
    "        raise ValueError(\"Only for range x in (-1, 1)\")\n",
    "    dpdx = (x*legendre_poly(n,x)-legendre_poly(n-1,x))*n/(x**2-1)\n",
    "    return dpdx\n",
    "    "
   ]
  },
  {
   "cell_type": "markdown",
   "metadata": {},
   "source": [
    "Solves the eigenvalue problem for the jacobi matrix of the legendre polynomials:\n",
    "\n",
    "$$\\begin{bmatrix} 0 & \\frac{i}{\\sqrt{4i^2-1}} & 0\\\\\n",
    "\\frac{j}{\\sqrt{4j^2-1}} &0 &  \\frac{i}{\\sqrt{4i^2-1}} &0\\\\\n",
    "0 & \\frac{j}{\\sqrt{4j^2-1}} &0 &  \\frac{i}{\\sqrt{4i^2-1}} & 0 \\\\\n",
    "& 0 & \\frac{j}{\\sqrt{4j^2-1}} &0 &  \\frac{i}{\\sqrt{4i^2-1}} & 0 \\\\\n",
    "&& \\ddots & \\ddots &\\ddots & \\ddots & \\ddots \\\\\n",
    "&&& 0 & \\frac{n-2}{\\sqrt{4(n-2)^2-1}} &0  & \\frac{n-1}{\\sqrt{4(n-1)^2-1}}  \\\\\n",
    "&&&& 0 & \\frac{n-1}{\\sqrt{4(n-1)^2-1}} &0   \n",
    "\\end{bmatrix}_{ij}\n",
    "$$"
   ]
  },
  {
   "cell_type": "code",
   "execution_count": 5,
   "metadata": {},
   "outputs": [],
   "source": [
    "def calculate_legendre_roots(n:int):\n",
    "    \n",
    "    if n<0 :\n",
    "        raise ValueError(\"negative polynomial order\")\n",
    "    if n==0:\n",
    "        return None\n",
    "    \n",
    "    A = np.zeros(shape=(n,n))\n",
    "    for i in range(1,n):\n",
    "        A[i-1,i] = i/np.sqrt(4*i**2-1)\n",
    "    A += A.transpose()\n",
    "    roots, vecs = np.linalg.eigh(A)\n",
    "    weights = np.zeros_like(roots)\n",
    "    for i in range(roots.shape[0]):\n",
    "        x = roots[i]\n",
    "        weights[i] = 2./(legendre_poly_diff(n,x)**2*(1-x**2))\n",
    "    return roots, weights"
   ]
  },
  {
   "cell_type": "code",
   "execution_count": 6,
   "metadata": {},
   "outputs": [],
   "source": [
    "def vec_to_grid(vec:np.array, weight:np.array, ndim:int):\n",
    "    \"\"\" Does the cartesian product of points to get grid of integration points\n",
    "    \"\"\"\n",
    "    l = vec.shape[0]\n",
    "    if len(vec.shape)!=1:\n",
    "        raise IndexError(\"This vec should be a vector\")\n",
    "    \n",
    "    # prepare a vector with the mapped point and the associated weight\n",
    "    out = np.zeros(shape=(l**ndim,ndim+1))\n",
    "    \n",
    "    comb = product(list(range(l)),repeat=ndim) #itertools.product\n",
    "    i = 0\n",
    "    for p in comb:\n",
    "        out[i,ndim] = 1.\n",
    "        for d in range(ndim):\n",
    "            x = vec[p[d]]\n",
    "            out[i,d] = x\n",
    "            out[i,ndim] *= weight[p[d]]\n",
    "        i += 1\n",
    "    return out"
   ]
  },
  {
   "cell_type": "code",
   "execution_count": 38,
   "metadata": {},
   "outputs": [],
   "source": [
    "def gauss_points_box(npoly:int, ndim:int):\n",
    "    \"\"\"Produces the gaussian integration points and weights (last column)\n",
    "    corresponding to the Legendre-Polynomial of degree npoly, in ndim. \n",
    "    Note that the ndim works for ndim>3 but didn't really think about \n",
    "    how right this is. \"\"\"\n",
    "    r,w = calculate_legendre_roots(npoly)\n",
    "    out = vec_to_grid(r,w,ndim)\n",
    "    \n",
    "    return out"
   ]
  },
  {
   "cell_type": "code",
   "execution_count": 39,
   "metadata": {},
   "outputs": [],
   "source": [
    "def build_mapping(ndim:int):\n",
    "    \"\"\"Builds the mapping from the line/square/cube [-1,1]^d to the reference triangle\n",
    "    which has vertices at {e_i} for 1<= i <= d\n",
    "    \"\"\"\n",
    "    if ndim<=0 :\n",
    "        raise ValueError(\"minimum dimension is obviously one\")\n",
    "    \n",
    "    quad_vert = np.zeros(shape=(2**ndim,ndim))\n",
    "\n",
    "    for i in range(2**(ndim-1)):\n",
    "        quad_vert[0+2*i,0] = -1.*(-1)**i\n",
    "        quad_vert[1+2*i,0] = 1.*(-1)**i\n",
    "\n",
    "    for col in range(1, ndim):\n",
    "\n",
    "        vec = -np.ones(2**(col))\n",
    "        vec = np.hstack((vec,-vec))\n",
    "        l = vec.shape[0]\n",
    "        for i in range(2**(ndim-col-1)):\n",
    "            quad_vert[l*i:l*i+l,col] = vec\n",
    "    \n",
    "    # simplex vertices\n",
    "    vertices = np.zeros(shape=(ndim+1,ndim))\n",
    "    for i in range(1,ndim+1):\n",
    "        vertices[i,i-1] = 1.\n",
    "\n",
    "    #mapping \n",
    "    # get every combination of first order variables\n",
    "    pterms = [(0,)]\n",
    "    directions = list(range(1,ndim+1))\n",
    "    for i in range(1, ndim+1):\n",
    "        pterms += list(combinations(directions,i))\n",
    "    l = len(pterms)\n",
    "    \n",
    "    # calculate the factor matrix and invert\n",
    "    M = np.ones(shape=(l,l))\n",
    "    for i in range(quad_vert.shape[0]):\n",
    "        M[i,0] = 1.\n",
    "        point = quad_vert[i,:]\n",
    "        for j in range(1,l):\n",
    "            v = pterms[j]\n",
    "            for k in v:\n",
    "                M[i,j] *= point[k-1]\n",
    "        \n",
    "    # now we can build the shape functions\n",
    "    Minv = np.linalg.inv(M)\n",
    "    \n",
    "    mapto = np.zeros_like(quad_vert)\n",
    "    # first move all the points in the (1,1,1,1) direction\n",
    "    # then shrink by two\n",
    "    for i in range(quad_vert.shape[0]):\n",
    "        mapto[i,:] = (quad_vert[i,:]+1.)/2\n",
    "        \n",
    "    # if any point coincides with a simplex vertex\n",
    "    # then it does not move\n",
    "    # for the others, if the point is equidistant\n",
    "    # from two or more other points, then it goes to an average\n",
    "    # of those points\n",
    "    eps = 1e-6\n",
    "    for i in range(quad_vert.shape[0]):\n",
    "        point = mapto[i,:]\n",
    "        dist = np.zeros(ndim+1)\n",
    "        for j in range(ndim+1):\n",
    "            dist[j] = np.linalg.norm(point-vertices[j])\n",
    "        mindist = dist.min()\n",
    "        lowdistgroup = [vertices[k] for k in range(ndim+1) \n",
    "                        if np.linalg.norm(point-vertices[k]) <= mindist+eps]\n",
    "        mapto[i,:] = sum(lowdistgroup)/len(lowdistgroup)\n",
    "    \n",
    "    return pterms, mapto, Minv\n",
    "    \n",
    "\n",
    "def pterms_diff(pterm, diffdir):\n",
    "    \"\"\"\n",
    "    returns the differential of a term above in the direction diffdir\"\"\"\n",
    "    if diffdir in pterm:\n",
    "        still_there = [a for a in pterm if a!=diffdir]\n",
    "        if len(still_there)==0:\n",
    "            still_there = 1.\n",
    "        else:\n",
    "            still_there = tuple(still_there)\n",
    "        return (still_there)\n",
    "    else:\n",
    "        return 0.\n",
    "    \n"
   ]
  },
  {
   "cell_type": "code",
   "execution_count": 40,
   "metadata": {},
   "outputs": [],
   "source": [
    "def apply_map(coord:np.array, pterms:list, mapto:np.array, Minv:np.array):\n",
    "    \"\"\"Applies the built map to a point\n",
    "    \"\"\"\n",
    "    \n",
    "    if len(coord.shape)!=1:\n",
    "        raise IndexError(\"This coord should be a vector\")\n",
    "    \n",
    "    ndim = coord.shape[0]\n",
    "    \n",
    "    if len(pterms)!=2**ndim:\n",
    "        raise IndexError(\"not enough poly terms in pterms\")\n",
    "    if mapto.shape[0]!=2**ndim:\n",
    "        raise IndexError(\"Not enough mapping points to determine system\")\n",
    "    if Minv.shape[0]!=Minv.shape[1] or Minv.shape[0]!=2**ndim:\n",
    "        raise IndexError(\"Minv has incompatible dimensions\")\n",
    "    \n",
    "    ptvals = np.ones(2**ndim)\n",
    "    \n",
    "    for i in range(1,len(pterms)):\n",
    "        for d in pterms[i]:\n",
    "            ptvals[i] *= coord[d-1]\n",
    "    shapes = ptvals.dot(Minv).transpose()\n",
    "    res = np.zeros(ndim)\n",
    "    for i in range(ndim):\n",
    "        res[i] = sum([mapto[j,i]*shapes[j] for j in range(2**ndim)])\n",
    "    \n",
    "    return res\n",
    "    \n",
    "    \n",
    "def jacobian(coord:np.array, pterms:list, mapto:np.array, Minv:np.array):\n",
    "    \n",
    "    if len(coord.shape)!=1:\n",
    "        raise IndexError(\"This coord should be a vector\")\n",
    "    \n",
    "    ndim = coord.shape[0]\n",
    "    \n",
    "    if len(pterms)!=2**ndim:\n",
    "        raise IndexError(\"not enough poly terms in pterms\")\n",
    "    if mapto.shape[0]!=2**ndim:\n",
    "        raise IndexError(\"Not enough mapping points to determine system\")\n",
    "    if Minv.shape[0]!=Minv.shape[1] or Minv.shape[0]!=2**ndim:\n",
    "        raise IndexError(\"Minv has incompatible dimensions\")\n",
    "    \n",
    "    # calculate already the derivatives for the jacobian\n",
    "    diffs = []\n",
    "    l = len(pterms)\n",
    "    for d in range(1,ndim+1):\n",
    "        ptd = []\n",
    "        for i in range(l):\n",
    "            ptd.append(pterms_diff(pterms[i], d))\n",
    "        diffs.append(ptd)\n",
    "    \n",
    "    jac = np.zeros(shape=(ndim,ndim))\n",
    "    \n",
    "    for j in range(ndim):\n",
    "        dif = diffs[j]\n",
    "        difvec = np.ones(2**ndim)\n",
    "        for k in range(2**ndim):\n",
    "            if type(dif[k]) is float:\n",
    "                difvec[k] = dif[k]\n",
    "            elif type(dif[k]) is tuple:\n",
    "                for d in dif[k]:\n",
    "                    difvec[k] *= coord[d-1]\n",
    "            else:\n",
    "                raise TypeError(\"only floats and tuples allowed here\")\n",
    "        dshapes = difvec.dot(Minv).transpose()\n",
    "        for i in range(ndim):\n",
    "            jac[i,j] = sum([mapto[k,i]*dshapes[k] for k in range(2**ndim)])\n",
    "            \n",
    "    return jac\n"
   ]
  },
  {
   "cell_type": "code",
   "execution_count": 41,
   "metadata": {},
   "outputs": [],
   "source": [
    "def gauss_map_to_simplex(g):\n",
    "    ndim = g.shape[1]-1\n",
    "    ps = g.shape[0]\n",
    "    pterms, mapto, Minv = build_mapping(ndim)\n",
    "    g_mapped = g.copy()\n",
    "    \n",
    "    for i in range(ps):\n",
    "        p = g[i,:ndim]\n",
    "        g_mapped[i,:ndim] = apply_map(p, pterms, mapto, Minv)\n",
    "        g_mapped[i,ndim] *= np.linalg.det(jacobian(p, pterms, mapto, Minv))\n",
    "        \n",
    "    return g_mapped\n",
    "        "
   ]
  },
  {
   "cell_type": "code",
   "execution_count": null,
   "metadata": {},
   "outputs": [],
   "source": []
  },
  {
   "cell_type": "code",
   "execution_count": 28,
   "metadata": {},
   "outputs": [
    {
     "data": {
      "text/plain": [
       "63.99999999999894"
      ]
     },
     "execution_count": 28,
     "metadata": {},
     "output_type": "execute_result"
    }
   ],
   "source": [
    "ndim = 6\n",
    "npoly = 3\n",
    "g = gauss_points_box(npoly,ndim)\n",
    "g[:,-1].sum()\n"
   ]
  },
  {
   "cell_type": "code",
   "execution_count": 29,
   "metadata": {},
   "outputs": [],
   "source": [
    "gm = gauss_map_to_simplex(g)"
   ]
  },
  {
   "cell_type": "code",
   "execution_count": 30,
   "metadata": {},
   "outputs": [
    {
     "data": {
      "text/plain": [
       "0.0013888888888888393"
      ]
     },
     "execution_count": 30,
     "metadata": {},
     "output_type": "execute_result"
    }
   ],
   "source": [
    "gm[:,-1].sum()"
   ]
  },
  {
   "cell_type": "code",
   "execution_count": 35,
   "metadata": {},
   "outputs": [],
   "source": [
    "import matplotlib.pyplot as plt\n",
    "%matplotlib qt"
   ]
  },
  {
   "cell_type": "code",
   "execution_count": 44,
   "metadata": {},
   "outputs": [],
   "source": [
    "fig = plt.figure(figsize=(33,16))\n",
    "ax1 = fig.add_subplot(121)\n",
    "ax1.set_aspect('equal', 'box')\n",
    "npoly = 12\n",
    "ndim = 2\n",
    "g = gauss_points_box(npoly, ndim)\n",
    "    \n",
    "ax1.plot(g[:,0],g[:,1],'x')\n",
    "ax1.set_xlim(-1,1)\n",
    "ax1.set_ylim(-1,1)\n",
    "\n",
    "ax2 = fig.add_subplot(122)\n",
    "ax2.set_aspect('equal', 'box')\n",
    "\n",
    "gm = gauss_map_to_simplex(g)\n",
    "    \n",
    "ax2.plot(gm[:,0],gm[:,1],'x')\n",
    "\n",
    "ax2.set_xlim(-1,1)\n",
    "ax2.set_ylim(-1,1)\n",
    "\n",
    "fig.savefig('gauss_int_'+str(npoly)+'.png')"
   ]
  },
  {
   "cell_type": "code",
   "execution_count": null,
   "metadata": {},
   "outputs": [],
   "source": []
  }
 ],
 "metadata": {
  "kernelspec": {
   "display_name": "Python 3",
   "language": "python",
   "name": "python3"
  },
  "language_info": {
   "codemirror_mode": {
    "name": "ipython",
    "version": 3
   },
   "file_extension": ".py",
   "mimetype": "text/x-python",
   "name": "python",
   "nbconvert_exporter": "python",
   "pygments_lexer": "ipython3",
   "version": "3.8.4rc1"
  }
 },
 "nbformat": 4,
 "nbformat_minor": 4
}
